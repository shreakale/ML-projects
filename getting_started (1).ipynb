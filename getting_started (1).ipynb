{
  "cells": [
    {
      "cell_type": "markdown",
      "metadata": {
        "id": "K8R8krUMJkHs"
      },
      "source": []
    },
    {
      "cell_type": "markdown",
      "metadata": {
        "id": "_oQeEQPEJkHt"
      },
      "source": [
        "# Task 1\n",
        "\n",
        "---\n",
        "\n",
        "## Web scraping and analysis\n",
        "\n",
        "This Jupyter notebook includes some code to get you started with web scraping. We will use a package called `BeautifulSoup` to collect the data from the web. Once you've collected your data and saved it into a local `.csv` file you should start with your analysis.\n",
        "\n",
        "### Scraping data from Skytrax\n",
        "\n",
        "If you visit [https://www.airlinequality.com] you can see that there is a lot of data there. For this task, we are only interested in reviews related to British Airways and the Airline itself.\n",
        "\n",
        "If you navigate to this link: [https://www.airlinequality.com/airline-reviews/british-airways] you will see this data. Now, we can use `Python` and `BeautifulSoup` to collect all the links to the reviews and then to collect the text data on each of the individual review links."
      ]
    },
    {
      "cell_type": "code",
      "execution_count": 1,
      "metadata": {
        "id": "ERuN11lYJkHu"
      },
      "outputs": [],
      "source": [
        "import requests\n",
        "from bs4 import BeautifulSoup\n",
        "import pandas as pd"
      ]
    },
    {
      "cell_type": "code",
      "execution_count": 2,
      "metadata": {
        "colab": {
          "base_uri": "https://localhost:8080/"
        },
        "id": "SQGNmXKiJkHv",
        "outputId": "9a3f0e74-c5b0-418d-a6fc-f2e81a6da367"
      },
      "outputs": [
        {
          "output_type": "stream",
          "name": "stdout",
          "text": [
            "Scraping page 1\n",
            "   ---> 100 total reviews\n",
            "Scraping page 2\n",
            "   ---> 200 total reviews\n",
            "Scraping page 3\n",
            "   ---> 300 total reviews\n",
            "Scraping page 4\n",
            "   ---> 400 total reviews\n",
            "Scraping page 5\n",
            "   ---> 500 total reviews\n",
            "Scraping page 6\n",
            "   ---> 600 total reviews\n",
            "Scraping page 7\n",
            "   ---> 700 total reviews\n",
            "Scraping page 8\n",
            "   ---> 800 total reviews\n",
            "Scraping page 9\n",
            "   ---> 900 total reviews\n",
            "Scraping page 10\n",
            "   ---> 1000 total reviews\n"
          ]
        }
      ],
      "source": [
        "base_url = \"https://www.airlinequality.com/airline-reviews/british-airways\"\n",
        "pages = 10\n",
        "page_size = 100\n",
        "\n",
        "reviews = []\n",
        "\n",
        "# for i in range(1, pages + 1):\n",
        "for i in range(1, pages + 1):\n",
        "\n",
        "    print(f\"Scraping page {i}\")\n",
        "\n",
        "    # Create URL to collect links from paginated data\n",
        "    url = f\"{base_url}/page/{i}/?sortby=post_date%3ADesc&pagesize={page_size}\"\n",
        "\n",
        "    # Collect HTML data from this page\n",
        "    response = requests.get(url)\n",
        "\n",
        "    # Parse content\n",
        "    content = response.content\n",
        "    parsed_content = BeautifulSoup(content, 'html.parser')\n",
        "    for para in parsed_content.find_all(\"div\", {\"class\": \"text_content\"}):\n",
        "        reviews.append(para.get_text())\n",
        "\n",
        "    print(f\"   ---> {len(reviews)} total reviews\")"
      ]
    },
    {
      "cell_type": "code",
      "execution_count": 3,
      "metadata": {
        "colab": {
          "base_uri": "https://localhost:8080/",
          "height": 206
        },
        "id": "H6kSg_vAJkHw",
        "outputId": "802ec041-abfc-4be6-bec9-b52d38b1cff8"
      },
      "outputs": [
        {
          "output_type": "execute_result",
          "data": {
            "text/plain": [
              "                                             reviews\n",
              "0  ✅ Trip Verified |   Could not book online the ...\n",
              "1  ✅ Trip Verified | Having had some rough experi...\n",
              "2  ✅ Trip Verified |   This comfortable flight wa...\n",
              "3  ✅ Trip Verified |   Punta Cana Terminal B chec...\n",
              "4  ✅ Trip Verified |   The employee at Venice Air..."
            ],
            "text/html": [
              "\n",
              "  <div id=\"df-c4e02dbb-d0cb-4062-b11a-537d92baf68e\" class=\"colab-df-container\">\n",
              "    <div>\n",
              "<style scoped>\n",
              "    .dataframe tbody tr th:only-of-type {\n",
              "        vertical-align: middle;\n",
              "    }\n",
              "\n",
              "    .dataframe tbody tr th {\n",
              "        vertical-align: top;\n",
              "    }\n",
              "\n",
              "    .dataframe thead th {\n",
              "        text-align: right;\n",
              "    }\n",
              "</style>\n",
              "<table border=\"1\" class=\"dataframe\">\n",
              "  <thead>\n",
              "    <tr style=\"text-align: right;\">\n",
              "      <th></th>\n",
              "      <th>reviews</th>\n",
              "    </tr>\n",
              "  </thead>\n",
              "  <tbody>\n",
              "    <tr>\n",
              "      <th>0</th>\n",
              "      <td>✅ Trip Verified |   Could not book online the ...</td>\n",
              "    </tr>\n",
              "    <tr>\n",
              "      <th>1</th>\n",
              "      <td>✅ Trip Verified | Having had some rough experi...</td>\n",
              "    </tr>\n",
              "    <tr>\n",
              "      <th>2</th>\n",
              "      <td>✅ Trip Verified |   This comfortable flight wa...</td>\n",
              "    </tr>\n",
              "    <tr>\n",
              "      <th>3</th>\n",
              "      <td>✅ Trip Verified |   Punta Cana Terminal B chec...</td>\n",
              "    </tr>\n",
              "    <tr>\n",
              "      <th>4</th>\n",
              "      <td>✅ Trip Verified |   The employee at Venice Air...</td>\n",
              "    </tr>\n",
              "  </tbody>\n",
              "</table>\n",
              "</div>\n",
              "    <div class=\"colab-df-buttons\">\n",
              "\n",
              "  <div class=\"colab-df-container\">\n",
              "    <button class=\"colab-df-convert\" onclick=\"convertToInteractive('df-c4e02dbb-d0cb-4062-b11a-537d92baf68e')\"\n",
              "            title=\"Convert this dataframe to an interactive table.\"\n",
              "            style=\"display:none;\">\n",
              "\n",
              "  <svg xmlns=\"http://www.w3.org/2000/svg\" height=\"24px\" viewBox=\"0 -960 960 960\">\n",
              "    <path d=\"M120-120v-720h720v720H120Zm60-500h600v-160H180v160Zm220 220h160v-160H400v160Zm0 220h160v-160H400v160ZM180-400h160v-160H180v160Zm440 0h160v-160H620v160ZM180-180h160v-160H180v160Zm440 0h160v-160H620v160Z\"/>\n",
              "  </svg>\n",
              "    </button>\n",
              "\n",
              "  <style>\n",
              "    .colab-df-container {\n",
              "      display:flex;\n",
              "      gap: 12px;\n",
              "    }\n",
              "\n",
              "    .colab-df-convert {\n",
              "      background-color: #E8F0FE;\n",
              "      border: none;\n",
              "      border-radius: 50%;\n",
              "      cursor: pointer;\n",
              "      display: none;\n",
              "      fill: #1967D2;\n",
              "      height: 32px;\n",
              "      padding: 0 0 0 0;\n",
              "      width: 32px;\n",
              "    }\n",
              "\n",
              "    .colab-df-convert:hover {\n",
              "      background-color: #E2EBFA;\n",
              "      box-shadow: 0px 1px 2px rgba(60, 64, 67, 0.3), 0px 1px 3px 1px rgba(60, 64, 67, 0.15);\n",
              "      fill: #174EA6;\n",
              "    }\n",
              "\n",
              "    .colab-df-buttons div {\n",
              "      margin-bottom: 4px;\n",
              "    }\n",
              "\n",
              "    [theme=dark] .colab-df-convert {\n",
              "      background-color: #3B4455;\n",
              "      fill: #D2E3FC;\n",
              "    }\n",
              "\n",
              "    [theme=dark] .colab-df-convert:hover {\n",
              "      background-color: #434B5C;\n",
              "      box-shadow: 0px 1px 3px 1px rgba(0, 0, 0, 0.15);\n",
              "      filter: drop-shadow(0px 1px 2px rgba(0, 0, 0, 0.3));\n",
              "      fill: #FFFFFF;\n",
              "    }\n",
              "  </style>\n",
              "\n",
              "    <script>\n",
              "      const buttonEl =\n",
              "        document.querySelector('#df-c4e02dbb-d0cb-4062-b11a-537d92baf68e button.colab-df-convert');\n",
              "      buttonEl.style.display =\n",
              "        google.colab.kernel.accessAllowed ? 'block' : 'none';\n",
              "\n",
              "      async function convertToInteractive(key) {\n",
              "        const element = document.querySelector('#df-c4e02dbb-d0cb-4062-b11a-537d92baf68e');\n",
              "        const dataTable =\n",
              "          await google.colab.kernel.invokeFunction('convertToInteractive',\n",
              "                                                    [key], {});\n",
              "        if (!dataTable) return;\n",
              "\n",
              "        const docLinkHtml = 'Like what you see? Visit the ' +\n",
              "          '<a target=\"_blank\" href=https://colab.research.google.com/notebooks/data_table.ipynb>data table notebook</a>'\n",
              "          + ' to learn more about interactive tables.';\n",
              "        element.innerHTML = '';\n",
              "        dataTable['output_type'] = 'display_data';\n",
              "        await google.colab.output.renderOutput(dataTable, element);\n",
              "        const docLink = document.createElement('div');\n",
              "        docLink.innerHTML = docLinkHtml;\n",
              "        element.appendChild(docLink);\n",
              "      }\n",
              "    </script>\n",
              "  </div>\n",
              "\n",
              "\n",
              "<div id=\"df-b448ecab-91bf-486f-8024-3b38d0d51377\">\n",
              "  <button class=\"colab-df-quickchart\" onclick=\"quickchart('df-b448ecab-91bf-486f-8024-3b38d0d51377')\"\n",
              "            title=\"Suggest charts\"\n",
              "            style=\"display:none;\">\n",
              "\n",
              "<svg xmlns=\"http://www.w3.org/2000/svg\" height=\"24px\"viewBox=\"0 0 24 24\"\n",
              "     width=\"24px\">\n",
              "    <g>\n",
              "        <path d=\"M19 3H5c-1.1 0-2 .9-2 2v14c0 1.1.9 2 2 2h14c1.1 0 2-.9 2-2V5c0-1.1-.9-2-2-2zM9 17H7v-7h2v7zm4 0h-2V7h2v10zm4 0h-2v-4h2v4z\"/>\n",
              "    </g>\n",
              "</svg>\n",
              "  </button>\n",
              "\n",
              "<style>\n",
              "  .colab-df-quickchart {\n",
              "      --bg-color: #E8F0FE;\n",
              "      --fill-color: #1967D2;\n",
              "      --hover-bg-color: #E2EBFA;\n",
              "      --hover-fill-color: #174EA6;\n",
              "      --disabled-fill-color: #AAA;\n",
              "      --disabled-bg-color: #DDD;\n",
              "  }\n",
              "\n",
              "  [theme=dark] .colab-df-quickchart {\n",
              "      --bg-color: #3B4455;\n",
              "      --fill-color: #D2E3FC;\n",
              "      --hover-bg-color: #434B5C;\n",
              "      --hover-fill-color: #FFFFFF;\n",
              "      --disabled-bg-color: #3B4455;\n",
              "      --disabled-fill-color: #666;\n",
              "  }\n",
              "\n",
              "  .colab-df-quickchart {\n",
              "    background-color: var(--bg-color);\n",
              "    border: none;\n",
              "    border-radius: 50%;\n",
              "    cursor: pointer;\n",
              "    display: none;\n",
              "    fill: var(--fill-color);\n",
              "    height: 32px;\n",
              "    padding: 0;\n",
              "    width: 32px;\n",
              "  }\n",
              "\n",
              "  .colab-df-quickchart:hover {\n",
              "    background-color: var(--hover-bg-color);\n",
              "    box-shadow: 0 1px 2px rgba(60, 64, 67, 0.3), 0 1px 3px 1px rgba(60, 64, 67, 0.15);\n",
              "    fill: var(--button-hover-fill-color);\n",
              "  }\n",
              "\n",
              "  .colab-df-quickchart-complete:disabled,\n",
              "  .colab-df-quickchart-complete:disabled:hover {\n",
              "    background-color: var(--disabled-bg-color);\n",
              "    fill: var(--disabled-fill-color);\n",
              "    box-shadow: none;\n",
              "  }\n",
              "\n",
              "  .colab-df-spinner {\n",
              "    border: 2px solid var(--fill-color);\n",
              "    border-color: transparent;\n",
              "    border-bottom-color: var(--fill-color);\n",
              "    animation:\n",
              "      spin 1s steps(1) infinite;\n",
              "  }\n",
              "\n",
              "  @keyframes spin {\n",
              "    0% {\n",
              "      border-color: transparent;\n",
              "      border-bottom-color: var(--fill-color);\n",
              "      border-left-color: var(--fill-color);\n",
              "    }\n",
              "    20% {\n",
              "      border-color: transparent;\n",
              "      border-left-color: var(--fill-color);\n",
              "      border-top-color: var(--fill-color);\n",
              "    }\n",
              "    30% {\n",
              "      border-color: transparent;\n",
              "      border-left-color: var(--fill-color);\n",
              "      border-top-color: var(--fill-color);\n",
              "      border-right-color: var(--fill-color);\n",
              "    }\n",
              "    40% {\n",
              "      border-color: transparent;\n",
              "      border-right-color: var(--fill-color);\n",
              "      border-top-color: var(--fill-color);\n",
              "    }\n",
              "    60% {\n",
              "      border-color: transparent;\n",
              "      border-right-color: var(--fill-color);\n",
              "    }\n",
              "    80% {\n",
              "      border-color: transparent;\n",
              "      border-right-color: var(--fill-color);\n",
              "      border-bottom-color: var(--fill-color);\n",
              "    }\n",
              "    90% {\n",
              "      border-color: transparent;\n",
              "      border-bottom-color: var(--fill-color);\n",
              "    }\n",
              "  }\n",
              "</style>\n",
              "\n",
              "  <script>\n",
              "    async function quickchart(key) {\n",
              "      const quickchartButtonEl =\n",
              "        document.querySelector('#' + key + ' button');\n",
              "      quickchartButtonEl.disabled = true;  // To prevent multiple clicks.\n",
              "      quickchartButtonEl.classList.add('colab-df-spinner');\n",
              "      try {\n",
              "        const charts = await google.colab.kernel.invokeFunction(\n",
              "            'suggestCharts', [key], {});\n",
              "      } catch (error) {\n",
              "        console.error('Error during call to suggestCharts:', error);\n",
              "      }\n",
              "      quickchartButtonEl.classList.remove('colab-df-spinner');\n",
              "      quickchartButtonEl.classList.add('colab-df-quickchart-complete');\n",
              "    }\n",
              "    (() => {\n",
              "      let quickchartButtonEl =\n",
              "        document.querySelector('#df-b448ecab-91bf-486f-8024-3b38d0d51377 button');\n",
              "      quickchartButtonEl.style.display =\n",
              "        google.colab.kernel.accessAllowed ? 'block' : 'none';\n",
              "    })();\n",
              "  </script>\n",
              "</div>\n",
              "\n",
              "    </div>\n",
              "  </div>\n"
            ],
            "application/vnd.google.colaboratory.intrinsic+json": {
              "type": "dataframe",
              "variable_name": "df",
              "summary": "{\n  \"name\": \"df\",\n  \"rows\": 1000,\n  \"fields\": [\n    {\n      \"column\": \"reviews\",\n      \"properties\": {\n        \"dtype\": \"string\",\n        \"num_unique_values\": 1000,\n        \"samples\": [\n          \"Not Verified |  I\\u2019ve generally been a loyal Gold status flyer with BA if they fly the route I\\u2019m after but my recent flight to Nairobi was about as abysmal as you can get. We should have departed at 10:20 but after continuous delays finally left 4.5 hours late, not ideal when you\\u2019ve then got an 8hr + flight. Staff informed us virtually as we took off that the meal and drinks service would be started and completed asap as they needed to get rest because of hours we had been delayed. They couldn\\u2019t get it out and away quickly enough. That was then basically the last you saw of them until they came around an hour or so before landing. I sincerely hope they enjoyed their rest because when you pay full fare for business class service you actually expect a service. They were all extremely miserable and clearly didn\\u2019t want to be on board. We\\u2019re still waiting for you to pay our compensation that has been awarded to us by the official ombudsman in July for the cancellation of our flight to Miami in March. This was cancelled at 3am for the 2:30 pm flight !\",\n          \"\\u2705 Trip Verified |  The service was excellent. The cabin staff were attentive and efficient. The food and drinks were very good. The seat in the new suites is extremely comfortable and the additional privacy is really nice. Overall a very enjoyable flight.\",\n          \"\\u2705 Trip Verified | This was my first flight during the pandemic, so it was understandable the difficulties facing airlines. Check-in was longer than normal due to the vaccine checks and passenger locator forms etc. But on the return flight, it was a total mess. Just two counters open for economy and one for business. There were arguments regarding vaccine checks, where two BA staff were contradicting each other. It took an hour and ten minutes just to check in, resulting in the flight delay. On board, I was not expecting great service.  Seating was extremely uncomfortable, 29 inch pitch and 17 inch wide seats - just about bearable for an hour and a half flight.  On board service was a packet of crisps and a small bottle of water from another, no eye contact with me just handed out. However, I was pleased that disembarking passengers were let out in groups, despite a few idiots who decided to stand a up to get their hand luggage out while the aircraft is was still taxing to the gate. The cabin crew did manage to force them back to their seats and close the lockers.\"\n        ],\n        \"semantic_type\": \"\",\n        \"description\": \"\"\n      }\n    }\n  ]\n}"
            }
          },
          "metadata": {},
          "execution_count": 3
        }
      ],
      "source": [
        "df = pd.DataFrame()\n",
        "df[\"reviews\"] = reviews\n",
        "df.head()"
      ]
    },
    {
      "cell_type": "code",
      "execution_count": 4,
      "metadata": {
        "colab": {
          "base_uri": "https://localhost:8080/"
        },
        "id": "kA7YwEQuJkHw",
        "outputId": "772d8e24-5c63-4c61-a4c3-8d3c76531db4"
      },
      "outputs": [
        {
          "output_type": "stream",
          "name": "stdout",
          "text": [
            "Requirement already satisfied: pandas in /usr/local/lib/python3.11/dist-packages (2.2.2)\n",
            "Requirement already satisfied: numpy>=1.23.2 in /usr/local/lib/python3.11/dist-packages (from pandas) (2.0.2)\n",
            "Requirement already satisfied: python-dateutil>=2.8.2 in /usr/local/lib/python3.11/dist-packages (from pandas) (2.8.2)\n",
            "Requirement already satisfied: pytz>=2020.1 in /usr/local/lib/python3.11/dist-packages (from pandas) (2025.2)\n",
            "Requirement already satisfied: tzdata>=2022.7 in /usr/local/lib/python3.11/dist-packages (from pandas) (2025.2)\n",
            "Requirement already satisfied: six>=1.5 in /usr/local/lib/python3.11/dist-packages (from python-dateutil>=2.8.2->pandas) (1.17.0)\n"
          ]
        }
      ],
      "source": [
        "pip install pandas"
      ]
    },
    {
      "cell_type": "code",
      "execution_count": 5,
      "metadata": {
        "colab": {
          "base_uri": "https://localhost:8080/"
        },
        "id": "-NU50nP3JkHw",
        "outputId": "0fca1841-6e69-4dc2-a156-0421700201a4"
      },
      "outputs": [
        {
          "output_type": "stream",
          "name": "stdout",
          "text": [
            "Requirement already satisfied: pip in /usr/local/lib/python3.11/dist-packages (24.1.2)\n",
            "Collecting pip\n",
            "  Downloading pip-25.0.1-py3-none-any.whl.metadata (3.7 kB)\n",
            "Downloading pip-25.0.1-py3-none-any.whl (1.8 MB)\n",
            "\u001b[2K   \u001b[90m━━━━━━━━━━━━━━━━━━━━━━━━━━━━━━━━━━━━━━━━\u001b[0m \u001b[32m1.8/1.8 MB\u001b[0m \u001b[31m26.4 MB/s\u001b[0m eta \u001b[36m0:00:00\u001b[0m\n",
            "\u001b[?25hInstalling collected packages: pip\n",
            "  Attempting uninstall: pip\n",
            "    Found existing installation: pip 24.1.2\n",
            "    Uninstalling pip-24.1.2:\n",
            "      Successfully uninstalled pip-24.1.2\n",
            "Successfully installed pip-25.0.1\n"
          ]
        }
      ],
      "source": [
        "pip install --upgrade pip"
      ]
    },
    {
      "cell_type": "code",
      "execution_count": 6,
      "metadata": {
        "id": "O5jMYj-vJkHx"
      },
      "outputs": [],
      "source": [
        "import os\n",
        "\n",
        "# Create the 'data' directory if it doesn't exist\n",
        "os.makedirs(\"data\", exist_ok=True)\n",
        "\n",
        "# Save the DataFrame as a CSV file\n",
        "df.to_csv(\"data/BA_reviews.csv\")\n"
      ]
    },
    {
      "cell_type": "code",
      "execution_count": 7,
      "metadata": {
        "id": "nyjUaHorJkHx"
      },
      "outputs": [],
      "source": [
        "df.to_csv(\"data/BA_reviews.csv\")"
      ]
    },
    {
      "cell_type": "markdown",
      "metadata": {
        "id": "432TrhRTJkHx"
      },
      "source": [
        "Congratulations! Now you have your dataset for this task! The loops above collected 1000 reviews by iterating through the paginated pages on the website. However, if you want to collect more data, try increasing the number of pages!\n",
        "\n",
        " The next thing that you should do is clean this data to remove any unnecessary text from each of the rows. For example, \"✅ Trip Verified\" can be removed from each row if it exists, as it's not relevant to what we want to investigate."
      ]
    },
    {
      "cell_type": "code",
      "execution_count": 8,
      "metadata": {
        "id": "op5mKPpjJkHx"
      },
      "outputs": [],
      "source": [
        "import pandas as pd\n",
        "\n",
        "# Load the CSV file\n",
        "df.to_csv(\"data/BA_reviews.csv\")\n",
        "\n",
        "# Replace \"Trip Verified\" with an empty string or NaN\n",
        "df = df.replace(\"Trip Verified\", \"\")\n",
        "\n",
        "# Save the cleaned DataFrame back to CSV\n",
        "df.to_csv(\"BA_reviews_cleaned.csv\", index=False)\n",
        "\n",
        "\n"
      ]
    },
    {
      "cell_type": "code",
      "execution_count": 9,
      "metadata": {
        "colab": {
          "base_uri": "https://localhost:8080/"
        },
        "id": "aH1e3Mh2JkHy",
        "outputId": "874067d4-a13a-486a-9463-9c76be97aab4"
      },
      "outputs": [
        {
          "output_type": "stream",
          "name": "stdout",
          "text": [
            "Topic 1:\n",
            "flight ba verified trip customer british refund told airways service\n",
            "\n",
            "Topic 2:\n",
            "flight ba crew class business verified cabin seat seats trip\n",
            "\n",
            "Topic 3:\n",
            "flight ba verified trip london service british hours airways airport\n",
            "\n",
            "Topic 4:\n",
            "ba seat verified trip luggage seats plane flight food service\n",
            "\n",
            "Topic 5:\n",
            "flight good ba food verified trip time service crew club\n",
            "\n"
          ]
        }
      ],
      "source": [
        "import numpy as np\n",
        "import pandas as pd\n",
        "from sklearn.feature_extraction.text import CountVectorizer\n",
        "from sklearn.decomposition import LatentDirichletAllocation\n",
        "\n",
        "# Load dataset\n",
        "file_path = \"/mnt/data/BA_reviews_cleaned.csv\"\n",
        "df = pd.read_csv(\"BA_reviews_cleaned.csv\")\n",
        "\n",
        "# Extract reviews column\n",
        "documents = df[\"reviews\"].dropna().tolist()\n",
        "\n",
        "# Convert text data into a document-term matrix\n",
        "vectorizer = CountVectorizer(stop_words='english', max_features=5000)\n",
        "X = vectorizer.fit_transform(documents)\n",
        "\n",
        "# Define and fit the LDA model\n",
        "num_topics = 5  # Adjust the number of topics as needed\n",
        "lda = LatentDirichletAllocation(n_components=num_topics, random_state=42)\n",
        "lda.fit(X)\n",
        "\n",
        "# Display the top words for each topic\n",
        "def display_topics(model, feature_names, num_words=10):\n",
        "    for topic_idx, topic in enumerate(model.components_):\n",
        "        print(f\"Topic {topic_idx + 1}:\")\n",
        "        print(\" \".join([feature_names[i] for i in topic.argsort()[:-num_words - 1:-1]]))\n",
        "        print()\n",
        "\n",
        "feature_names = vectorizer.get_feature_names_out()\n",
        "display_topics(lda, feature_names)\n"
      ]
    },
    {
      "cell_type": "code",
      "execution_count": null,
      "metadata": {
        "id": "FvVDWCtAJkHy"
      },
      "outputs": [],
      "source": []
    },
    {
      "cell_type": "code",
      "execution_count": 10,
      "metadata": {
        "colab": {
          "base_uri": "https://localhost:8080/"
        },
        "id": "jxx3KCi8JkHy",
        "outputId": "7956fd20-795e-493c-e474-93a8f39913cc"
      },
      "outputs": [
        {
          "output_type": "stream",
          "name": "stderr",
          "text": [
            "[nltk_data] Downloading package vader_lexicon to /root/nltk_data...\n",
            "[nltk_data] Downloading package vader_lexicon to /root/nltk_data...\n",
            "[nltk_data]   Package vader_lexicon is already up-to-date!\n"
          ]
        },
        {
          "output_type": "stream",
          "name": "stdout",
          "text": [
            "                                             reviews  TextBlob_Score  \\\n",
            "0  ✅ Trip Verified |   Could not book online the ...       -0.151111   \n",
            "1  ✅ Trip Verified | Having had some rough experi...        0.073148   \n",
            "2  ✅ Trip Verified |   This comfortable flight wa...        0.349184   \n",
            "3  ✅ Trip Verified |   Punta Cana Terminal B chec...        0.207056   \n",
            "4  ✅ Trip Verified |   The employee at Venice Air...       -0.258125   \n",
            "\n",
            "   VADER_Score Sentiment  \n",
            "0      -0.4767  Negative  \n",
            "1       0.9150  Positive  \n",
            "2       0.9954  Positive  \n",
            "3       0.9953  Positive  \n",
            "4      -0.8310  Negative  \n"
          ]
        }
      ],
      "source": [
        "import pandas as pd\n",
        "import nltk\n",
        "nltk.download('vader_lexicon')\n",
        "\n",
        "from textblob import TextBlob\n",
        "from nltk.sentiment import SentimentIntensityAnalyzer\n",
        "import nltk\n",
        "\n",
        "# Download VADER lexicon (only needed once)\n",
        "nltk.download('vader_lexicon')\n",
        "\n",
        "# Load dataset\n",
        "file_path = \"BA_reviews_cleaned.csv\"\n",
        "df = pd.read_csv(\"BA_reviews_cleaned.csv\")\n",
        "\n",
        "# Initialize VADER sentiment analyzer\n",
        "sia = SentimentIntensityAnalyzer()\n",
        "\n",
        "def analyze_sentiment(text):\n",
        "    \"\"\"Function to analyze sentiment using TextBlob and VADER.\"\"\"\n",
        "    if isinstance(text, str):\n",
        "        # TextBlob polarity score\n",
        "        blob_score = TextBlob(text).sentiment.polarity\n",
        "\n",
        "        # VADER compound score\n",
        "        vader_score = sia.polarity_scores(text)[\"compound\"]\n",
        "\n",
        "        # Determine sentiment label\n",
        "        sentiment = \"Positive\" if vader_score > 0 else \"Negative\" if vader_score < 0 else \"Neutral\"\n",
        "        return blob_score, vader_score, sentiment\n",
        "    else:\n",
        "        return None, None, \"Unknown\"\n",
        "\n",
        "# Apply sentiment analysis\n",
        "df[[\"TextBlob_Score\", \"VADER_Score\", \"Sentiment\"]] = df[\"reviews\"].apply(lambda x: pd.Series(analyze_sentiment(x)))\n",
        "\n",
        "# Display results\n",
        "print(df.head())\n",
        "\n",
        "# Save results\n",
        "df.to_csv(\"BA_reviews_sentiment.csv\", index=False)"
      ]
    },
    {
      "cell_type": "code",
      "execution_count": 11,
      "metadata": {
        "colab": {
          "base_uri": "https://localhost:8080/",
          "height": 1000
        },
        "id": "-u6EDOjRJkHy",
        "outputId": "a902c7ad-fefe-4680-b4d8-b1b019d063f6"
      },
      "outputs": [
        {
          "output_type": "stream",
          "name": "stderr",
          "text": [
            "[nltk_data] Downloading package vader_lexicon to /root/nltk_data...\n",
            "[nltk_data]   Package vader_lexicon is already up-to-date!\n"
          ]
        },
        {
          "output_type": "display_data",
          "data": {
            "text/plain": [
              "<Figure size 600x600 with 1 Axes>"
            ],
            "image/png": "[encoded data removed]"
          },
          "metadata": {}
        },
        {
          "output_type": "stream",
          "name": "stderr",
          "text": [
            "<ipython-input-11-85f17ad4debf>:62: FutureWarning: \n",
            "\n",
            "Passing `palette` without assigning `hue` is deprecated and will be removed in v0.14.0. Assign the `x` variable to `hue` and set `legend=False` for the same effect.\n",
            "\n",
            "  sns.barplot(x=list(top_words_per_topic.keys()), y=[sum(lda.components_[i]) for i in range(len(top_words_per_topic))], palette=\"Blues\")\n"
          ]
        },
        {
          "output_type": "display_data",
          "data": {
            "text/plain": [
              "<Figure size 800x500 with 1 Axes>"
            ],
            "image/png": "[encoded data removed]"
          },
          "metadata": {}
        },
        {
          "output_type": "execute_result",
          "data": {
            "text/plain": [
              "('sentiment_distribution.png',\n",
              " 'topic_distribution.png',\n",
              " ['Most reviews are Negative (522 reviews).',\n",
              "  'Main topics include flight, ba, verified and more.',\n",
              "  'Frequent complaints relate to service quality and delays.',\n",
              "  'Understanding these patterns helps improve customer satisfaction.'])"
            ]
          },
          "metadata": {},
          "execution_count": 11
        }
      ],
      "source": [
        "# Reload necessary libraries\n",
        "import pandas as pd\n",
        "import matplotlib.pyplot as plt # type: ignore\n",
        "import seaborn as sns\n",
        "import nltk\n",
        "from textblob import TextBlob\n",
        "from nltk.sentiment import SentimentIntensityAnalyzer\n",
        "from sklearn.feature_extraction.text import CountVectorizer\n",
        "from sklearn.decomposition import LatentDirichletAllocation\n",
        "\n",
        "# Download necessary resources\n",
        "nltk.download('vader_lexicon')\n",
        "\n",
        "# Load dataset\n",
        "file_path = \"BA_reviews_cleaned.csv\"\n",
        "df = pd.read_csv(\"BA_reviews_cleaned.csv\")\n",
        "\n",
        "# Initialize sentiment analyzer\n",
        "sia = SentimentIntensityAnalyzer()\n",
        "\n",
        "# Sentiment analysis function\n",
        "def analyze_sentiment(text):\n",
        "    if isinstance(text, str):\n",
        "        vader_score = sia.polarity_scores(text)[\"compound\"]\n",
        "        sentiment = \"Positive\" if vader_score > 0 else \"Negative\" if vader_score < 0 else \"Neutral\"\n",
        "        return sentiment\n",
        "    return \"Unknown\"\n",
        "\n",
        "# Apply sentiment analysis\n",
        "df[\"Sentiment\"] = df[\"reviews\"].apply(analyze_sentiment)\n",
        "\n",
        "# Count the number of reviews per sentiment category\n",
        "sentiment_counts = df[\"Sentiment\"].value_counts()\n",
        "\n",
        "# Plot Sentiment Distribution (Pie Chart)\n",
        "plt.figure(figsize=(6, 6))\n",
        "colors = ['green', 'gray', 'red']\n",
        "plt.pie(sentiment_counts, labels=sentiment_counts.index, autopct='%1.1f%%', colors=colors, startangle=140)\n",
        "plt.title(\"Sentiment Distribution of Reviews\")\n",
        "sentiment_chart_path = \"sentiment_distribution.png\"\n",
        "plt.savefig(sentiment_chart_path)\n",
        "plt.show()\n",
        "\n",
        "# Topic Modeling Setup\n",
        "vectorizer = CountVectorizer(stop_words='english', max_features=5000)\n",
        "X = vectorizer.fit_transform(df[\"reviews\"].dropna())\n",
        "lda = LatentDirichletAllocation(n_components=5, random_state=42)\n",
        "lda.fit(X)\n",
        "feature_names = vectorizer.get_feature_names_out()\n",
        "\n",
        "# Extract top words from LDA model (top 10 words per topic)\n",
        "top_words_per_topic = {}\n",
        "for topic_idx, topic in enumerate(lda.components_):\n",
        "    top_words = [feature_names[i] for i in topic.argsort()[:-11:-1]]\n",
        "    top_words_per_topic[f\"Topic {topic_idx + 1}\"] = top_words\n",
        "\n",
        "# Convert to DataFrame for visualization\n",
        "topic_df = pd.DataFrame.from_dict(top_words_per_topic, orient=\"index\")\n",
        "\n",
        "# Plot Topic Distribution (Bar Chart)\n",
        "plt.figure(figsize=(8, 5))\n",
        "sns.barplot(x=list(top_words_per_topic.keys()), y=[sum(lda.components_[i]) for i in range(len(top_words_per_topic))], palette=\"Blues\")\n",
        "plt.xlabel(\"Topics\")\n",
        "plt.ylabel(\"Importance Score\")\n",
        "plt.title(\"Top Topics in Customer Reviews\")\n",
        "plt.xticks(rotation=45)\n",
        "topic_chart_path = \"topic_distribution.png\"\n",
        "plt.savefig(topic_chart_path)\n",
        "plt.show()\n",
        "\n",
        "# Generate key insights\n",
        "key_insights = [\n",
        "    f\"Most reviews are {sentiment_counts.idxmax()} ({sentiment_counts.max()} reviews).\",\n",
        "    f\"Main topics include {', '.join(topic_df.iloc[0, :3])} and more.\",\n",
        "    \"Frequent complaints relate to service quality and delays.\",\n",
        "    \"Understanding these patterns helps improve customer satisfaction.\"\n",
        "]\n",
        "\n",
        "sentiment_chart_path, topic_chart_path, key_insights\n"
      ]
    }
  ],
  "metadata": {
    "kernelspec": {
      "display_name": "Python 3",
      "language": "python",
      "name": "python3"
    },
    "language_info": {
      "codemirror_mode": {
        "name": "ipython",
        "version": 3
      },
      "file_extension": ".py",
      "mimetype": "text/x-python",
      "name": "python",
      "nbconvert_exporter": "python",
      "pygments_lexer": "ipython3",
      "version": "3.13.1"
    },
    "orig_nbformat": 4,
    "colab": {
      "provenance": []
    }
  },
  "nbformat": 4,
  "nbformat_minor": 0
}